{
 "cells": [
  {
   "attachments": {
    "Screenshot%20from%202022-08-23%2018-38-12.png": {
     "image/png": "[encoded data removed]"
    }
   },
   "cell_type": "markdown",
   "metadata": {
    "deletable": false,
    "editable": false,
    "nbgrader": {
     "cell_type": "markdown",
     "checksum": "048863a779a3a56ab4b5cef7a486c37d",
     "grade": false,
     "grade_id": "cell-dbf37dcea5d7dc5c",
     "locked": true,
     "schema_version": 3,
     "solution": false,
     "task": false
    }
   },
   "source": [
    "---\n",
    "## Q7\n",
    "จงเขียนโปรแกรมที่รับรหัสนิสิต และ ภาคการศึกษา (1/2/3) แล้วแสดงค่าธรรมเนียมการศึกษาของนิสิตใน ภาคนั้นตามตารางข้างล่างนี้\n",
    "\n",
    "![Screenshot%20from%202022-08-23%2018-38-12.png](attachment:Screenshot%20from%202022-08-23%2018-38-12.png)\n",
    "\n",
    "เลขหลักที่ 3 (จากหน้า) ของรหัสนิสิตระดับปริญญาบัณฑิต คือ 3, 4 และบัณฑิตศึกษา คือ 7 <br>\n",
    "เลข 2 หลักสุดท้ายของรหัสนิสิตเป็นรหัสคณะ <br>\n",
    "รหัสคณะในกลุ่ม 1 คือ 21 23 25 28 <br>\n",
    "รหัสคณะในกลุ่ม 2 คือ 22 24 26 27 <br>\n",
    "และแสดงผลลัพธ์ดังตัวอย่างข้างล่างนี้"
   ]
  },
  {
   "cell_type": "markdown",
   "metadata": {
    "deletable": false,
    "editable": false,
    "nbgrader": {
     "cell_type": "markdown",
     "checksum": "44c58fb6fe39f9bf053d0aff05ecd912",
     "grade": false,
     "grade_id": "cell-7ae57c7b0fc2869d",
     "locked": true,
     "schema_version": 3,
     "solution": false,
     "task": false
    }
   },
   "source": [
    "### ตัวอย่างการทำงาน: \n",
    "\n",
    "Enter student ID : **6033235423**  <br>\n",
    "Enter semester : **1**  <br>\n",
    "Registration fee : 21000"
   ]
  },
  {
   "cell_type": "markdown",
   "metadata": {
    "deletable": false,
    "editable": false,
    "nbgrader": {
     "cell_type": "markdown",
     "checksum": "c1d7929a8a3fc720afbee15424e08905",
     "grade": false,
     "grade_id": "cell-1b10c564484fa711",
     "locked": true,
     "schema_version": 3,
     "solution": false,
     "task": false
    }
   },
   "source": [
    "### ตัวอย่างการทำงาน: \n",
    "Enter student ID : **6070013223**  <br>\n",
    "Enter semester : **2**  <br>\n",
    "Registration fee : 31000"
   ]
  },
  {
   "cell_type": "markdown",
   "metadata": {
    "deletable": false,
    "editable": false,
    "nbgrader": {
     "cell_type": "markdown",
     "checksum": "ed6a87ce6764f7f0774ea3c52a53b622",
     "grade": false,
     "grade_id": "cell-fc86ada0a7d9d7ee",
     "locked": true,
     "schema_version": 3,
     "solution": false,
     "task": false
    }
   },
   "source": [
    "### ตัวอย่างการทำงาน: \n",
    "\n",
    "Enter student ID : **5443200022**  <br>\n",
    "Enter semester : **3**  <br>\n",
    "Registration fee : 4500"
   ]
  },
  {
   "cell_type": "markdown",
   "metadata": {
    "deletable": false,
    "editable": false,
    "nbgrader": {
     "cell_type": "markdown",
     "checksum": "615df8c91628f4c423a1388feec47c76",
     "grade": false,
     "grade_id": "cell-7756331ade47aa76",
     "locked": true,
     "schema_version": 3,
     "solution": false,
     "task": false
    }
   },
   "source": [
    "### ตัวอย่างการทำงาน: \n",
    "\n",
    "Enter student ID : **5443200022**  <br>\n",
    "Enter semester : **0**  <br>\n",
    "Invalid semester"
   ]
  },
  {
   "cell_type": "markdown",
   "metadata": {
    "deletable": false,
    "editable": false,
    "nbgrader": {
     "cell_type": "markdown",
     "checksum": "cfcab973d5291e560e64a101e1de66a5",
     "grade": false,
     "grade_id": "cell-c4bec50505bf5651",
     "locked": true,
     "schema_version": 3,
     "solution": false,
     "task": false
    }
   },
   "source": [
    "### ตัวอย่างการทำงาน: \n",
    "\n",
    "Enter student ID : **60499**  <br>\n",
    "Invalid ID"
   ]
  },
  {
   "cell_type": "markdown",
   "metadata": {
    "deletable": false,
    "editable": false,
    "nbgrader": {
     "cell_type": "markdown",
     "checksum": "e266557c797a5d7adae8fec7c5032405",
     "grade": false,
     "grade_id": "cell-1da5027704110967",
     "locked": true,
     "schema_version": 3,
     "solution": false,
     "task": false
    }
   },
   "source": [
    "### ตัวอย่างการทำงาน: \n",
    "\n",
    "Enter student ID : **9913235499**  <br> \n",
    "Invalid ID"
   ]
  },
  {
   "cell_type": "code",
   "execution_count": 101,
   "metadata": {
    "deletable": false,
    "nbgrader": {
     "cell_type": "code",
     "checksum": "b200d6e6b1dcb53db9c7782614ea5d49",
     "grade": false,
     "grade_id": "name",
     "locked": false,
     "schema_version": 3,
     "solution": true
    }
   },
   "outputs": [],
   "source": [
    "def run():\n",
    "    id = str(input())\n",
    "    lst = list(id)\n",
    "    if len(id) == 10:\n",
    "        #group 1\n",
    "        if float(lst[8]+lst[9]) in range(21,26,2) or float(lst[8]+lst[9]) == 28 :\n",
    "            #ปี 50-55\n",
    "            if 50 <= float(lst[0]+lst[1]) <= 55:\n",
    "                #degree\n",
    "                if lst[2] == \"3\" or lst[2] == \"4\" :\n",
    "                    sem = int(input(\"Enter semester :\"))\n",
    "                    if sem == 1 or sem == 2:\n",
    "                        print(\"Registration fee : 18000\")\n",
    "                    elif sem == 3 :\n",
    "                        print(\"Registration fee : 4500\")\n",
    "                    else :\n",
    "                        print(\"Invalid semester\")\n",
    "                elif lst[2] == \"7\" :\n",
    "                    sem = int(input(\"Enter semester :\"))\n",
    "                    if sem == 1 or sem == 2:\n",
    "                        print(\"Registration fee : 26000\")\n",
    "                    elif sem == 3 :\n",
    "                        print(\"Registration fee : 7000\")\n",
    "                    else :\n",
    "                        print(\"Invalid semester\")\n",
    "                else :\n",
    "                    print(\"Invalid ID\")\n",
    "\n",
    "            #ปี 56++\n",
    "            elif float(lst[0]+lst[1]) > 55:\n",
    "                #degree\n",
    "                if lst[2] == \"3\" or lst[2] == \"4\" :\n",
    "                    sem = int(input(\"Enter semester :\"))\n",
    "                    if sem == 1 or sem == 2:\n",
    "                        print(\"Registration fee : 21000\")\n",
    "                    elif sem == 3 :\n",
    "                        print(\"Registration fee : 5250\")\n",
    "                    else :\n",
    "                        print(\"Invalid semester\")\n",
    "                elif lst[2] == \"7\" :\n",
    "                    sem = int(input(\"Enter semester :\"))\n",
    "                    if sem == 1 or sem == 2:\n",
    "                        print(\"Registration fee : 31000\")\n",
    "                    elif sem == 3 :\n",
    "                        print(\"Registration fee : 7750\")\n",
    "                    else :\n",
    "                        print(\"Invalid semester\")\n",
    "                \n",
    "            else :\n",
    "                print(\"Invalid ID\")\n",
    "        #group 2\n",
    "        elif float(lst[8]+lst[9]) in range(22,27,2) or float(lst[8]+lst[9]) == 27 :\n",
    "            #ปี 50-55\n",
    "            if 50 <= float(lst[0]+lst[1]) <= 55:\n",
    "                #degree\n",
    "                if lst[2] == \"3\" or lst[2] == \"4\" :\n",
    "                    sem = int(input(\"Enter semester :\"))\n",
    "                    if sem == 1 or sem == 2:\n",
    "                        print(\"Registration fee : 14500\")\n",
    "                    elif sem == 3 :\n",
    "                        print(\"Registration fee : 4500\")\n",
    "                    else :\n",
    "                        print(\"Invalid semester\")\n",
    "                elif lst[2] == \"7\" :\n",
    "                    sem = int(input(\"Enter semester :\"))\n",
    "                    if sem == 1 or sem == 2:\n",
    "                        print(\"Registration fee : 19000\")\n",
    "                    elif sem == 3 :\n",
    "                        print(\"Registration fee : 7000\")\n",
    "                    else :\n",
    "                        print(\"Invalid semester\")\n",
    "                else :\n",
    "                    print(\"Invalid ID\")\n",
    "            #ปี 56++\n",
    "            elif float(lst[0]+lst[1]) > 55:\n",
    "                #degree\n",
    "                if lst[2] == \"3\" or lst[2] == \"4\" :\n",
    "                    sem = int(input(\"Enter semester :\"))\n",
    "                    if sem == 1 or sem == 2:\n",
    "                        print(\"Registration fee : 17000\")\n",
    "                    elif sem == 3 :\n",
    "                        print(\"Registration fee : 5250\")\n",
    "                    else :\n",
    "                        print(\"Invalid semester\")\n",
    "                elif lst[2] == \"7\" :\n",
    "                    sem = int(input(\"Enter semester :\"))\n",
    "                    if sem == 1 or sem == 2:\n",
    "                        print(\"Registration fee : 23000\")\n",
    "                    elif sem == 3 :\n",
    "                        print(\"Registration fee : 7750\")\n",
    "                    else :\n",
    "                        print(\"Invalid semester\")\n",
    "                else :\n",
    "                    print(\"Invalid ID\")\n",
    "            else :\n",
    "                print(\"Invalid ID\")\n",
    "        else :\n",
    "            print(\"Invalid ID\")\n",
    "    else :\n",
    "        print(\"Invalid ID\")\n",
    "                \n",
    "        \n",
    "                "
   ]
  },
  {
   "cell_type": "code",
   "execution_count": 99,
   "metadata": {
    "deletable": false,
    "editable": false,
    "nbgrader": {
     "cell_type": "code",
     "checksum": "b7b03893ed0aaf1a2af60ae612b4be37",
     "grade": false,
     "grade_id": "cell-befa13e6c82bd29b",
     "locked": true,
     "schema_version": 3,
     "solution": false,
     "task": false
    }
   },
   "outputs": [
    {
     "name": "stdin",
     "output_type": "stream",
     "text": [
      " 6433235426\n",
      "Enter semester : 2\n"
     ]
    },
    {
     "name": "stdout",
     "output_type": "stream",
     "text": [
      "Registration fee : 17000\n"
     ]
    }
   ],
   "source": [
    "'''ตรวจสอบผลลัพธ์ของโปรแกรมด้วยการรันที่ cell นี้'''\n",
    "run()"
   ]
  },
  {
   "cell_type": "code",
   "execution_count": 103,
   "metadata": {
    "deletable": false,
    "editable": false,
    "nbgrader": {
     "cell_type": "code",
     "checksum": "51309daa496029406f58e0ffe1d6e21d",
     "grade": false,
     "grade_id": "partial",
     "locked": true,
     "schema_version": 3,
     "solution": false,
     "task": false
    }
   },
   "outputs": [],
   "source": [
    "'''ตรวจสอบผลการคำนวณ'''\n",
    "from unittest.mock import patch\n",
    "from io import StringIO\n",
    "\n",
    "def test(inputs,expected_output): \n",
    "    with patch('builtins.input', side_effect=inputs), patch('sys.stdout', new_callable=StringIO) as mock_stdout:\n",
    "        run()\n",
    "        assert mock_stdout.getvalue() == expected_output,mock_stdout.getvalue()\n",
    "def test_easy_print(inputs,expected_output):\n",
    "    with patch('builtins.input', side_effect=inputs), patch('sys.stdout', new_callable=StringIO) as mock_stdout:\n",
    "        run()\n",
    "        assert expected_output in mock_stdout.getvalue(), mock_stdout.getvalue()"
   ]
  },
  {
   "cell_type": "code",
   "execution_count": 105,
   "metadata": {
    "deletable": false,
    "editable": false,
    "nbgrader": {
     "cell_type": "code",
     "checksum": "97f72a83b98ee57ba2ce5d27272a6802",
     "grade": true,
     "grade_id": "easy_print",
     "locked": true,
     "points": 1,
     "schema_version": 3,
     "solution": false,
     "task": false
    }
   },
   "outputs": [
    {
     "name": "stdout",
     "output_type": "stream",
     "text": [
      "ok\n"
     ]
    }
   ],
   "source": [
    "'''ตรวจสอบการแสดงผลลัพธ์อย่างง่าย'''\n",
    "test_easy_print(inputs=['5233235425','2'],expected_output='Registration')\n",
    "print('ok')"
   ]
  },
  {
   "cell_type": "code",
   "execution_count": 107,
   "metadata": {
    "deletable": false,
    "editable": false,
    "nbgrader": {
     "cell_type": "code",
     "checksum": "39c0eb61030e46965615053fbf664d85",
     "grade": true,
     "grade_id": "exact",
     "locked": false,
     "points": 1,
     "schema_version": 3,
     "solution": false
    }
   },
   "outputs": [
    {
     "name": "stdout",
     "output_type": "stream",
     "text": [
      "ok\n"
     ]
    }
   ],
   "source": [
    "'''ตรวจสอบผลการคำนวณและการแสดงผลลัพธ์ให้เหมือนกับโจทย์ที่กำหนดให้'''\n",
    "'''ปริญญาตรี กลุ่ม 1'''\n",
    "test(['5233235425','2'],'Registration fee : 18000\\n') \n",
    "test(['5443200021','3'],'Registration fee : 4500\\n')  #\n",
    "test(['6033235423','1'],'Registration fee : 21000\\n') # \n",
    "test(['6033235423','3'],'Registration fee : 5250\\n')\n",
    "print('ok')"
   ]
  },
  {
   "cell_type": "code",
   "execution_count": 109,
   "metadata": {
    "deletable": false,
    "editable": false,
    "nbgrader": {
     "cell_type": "code",
     "checksum": "6380d72733a6443cf4e59eb2056baf8b",
     "grade": true,
     "grade_id": "cell-3478c02530c40be9",
     "locked": true,
     "points": 1,
     "schema_version": 3,
     "solution": false,
     "task": false
    }
   },
   "outputs": [
    {
     "name": "stdout",
     "output_type": "stream",
     "text": [
      "ok\n"
     ]
    }
   ],
   "source": [
    "'''ตรวจสอบผลการคำนวณและการแสดงผลลัพธ์ให้เหมือนกับโจทย์ที่กำหนดให้'''\n",
    "'''บัณฑิต กลุ่ม 1'''\n",
    "test(['5273235421','2'],'Registration fee : 26000\\n') #grad\n",
    "test(['5273235423','3'],'Registration fee : 7000\\n')  #grad\n",
    "test(['6070013223','1'],'Registration fee : 31000\\n') #grad \n",
    "test(['6070013228','3'],'Registration fee : 7750\\n') #grad\n",
    "print('ok')"
   ]
  },
  {
   "cell_type": "code",
   "execution_count": 111,
   "metadata": {
    "deletable": false,
    "editable": false,
    "nbgrader": {
     "cell_type": "code",
     "checksum": "6eeeb2e2ebc7053280deb2bcf8a1a321",
     "grade": true,
     "grade_id": "cell-c499d1f5a46997cb",
     "locked": true,
     "points": 1,
     "schema_version": 3,
     "solution": false,
     "task": false
    }
   },
   "outputs": [
    {
     "name": "stdout",
     "output_type": "stream",
     "text": [
      "ok\n"
     ]
    }
   ],
   "source": [
    "'''ตรวจสอบผลการคำนวณและการแสดงผลลัพธ์ให้เหมือนกับโจทย์ที่กำหนดให้'''\n",
    "'''ปริญญาตรี กลุ่ม 2'''\n",
    "test(['5333200024','1'],'Registration fee : 14500\\n') \n",
    "test(['5443200022','3'],'Registration fee : 4500\\n') \n",
    "test(['6433235426','2'],'Registration fee : 17000\\n') # \n",
    "test(['6533235427','3'],'Registration fee : 5250\\n')\n",
    "print('ok')"
   ]
  },
  {
   "cell_type": "code",
   "execution_count": 113,
   "metadata": {
    "deletable": false,
    "editable": false,
    "nbgrader": {
     "cell_type": "code",
     "checksum": "e7c652e5d3ec825c4ebc593508af5fc1",
     "grade": true,
     "grade_id": "cell-57205c9f839d216d",
     "locked": true,
     "points": 1,
     "schema_version": 3,
     "solution": false,
     "task": false
    }
   },
   "outputs": [
    {
     "name": "stdout",
     "output_type": "stream",
     "text": [
      "ok\n"
     ]
    }
   ],
   "source": [
    "'''ตรวจสอบผลการคำนวณและการแสดงผลลัพธ์ให้เหมือนกับโจทย์ที่กำหนดให้'''\n",
    "'''บัณฑิต กลุ่ม 2'''\n",
    "test(['5173235422','1'],'Registration fee : 19000\\n') #grad\n",
    "test(['5373235424','3'],'Registration fee : 7000\\n')  #grad\n",
    "test(['6370013226','2'],'Registration fee : 23000\\n') #grad \n",
    "test(['6570013227','3'],'Registration fee : 7750\\n') #grad\n",
    "print('ok')"
   ]
  },
  {
   "cell_type": "code",
   "execution_count": 115,
   "metadata": {
    "deletable": false,
    "editable": false,
    "nbgrader": {
     "cell_type": "code",
     "checksum": "ab0431ea08b836315f72448bc89e363a",
     "grade": true,
     "grade_id": "cell-4b18127349ff522e",
     "locked": true,
     "points": 1,
     "schema_version": 3,
     "solution": false,
     "task": false
    }
   },
   "outputs": [
    {
     "name": "stdout",
     "output_type": "stream",
     "text": [
      "ok\n"
     ]
    }
   ],
   "source": [
    "'''ตรวจสอบผลการคำนวณและการแสดงผลลัพธ์ให้เหมือนกับโจทย์ที่กำหนดให้'''\n",
    "'''case Invalid / Invalid semester'''\n",
    "test(['5443200022','0'],'Invalid semester\\n')  #\n",
    "test(['604923'],'Invalid ID\\n') #\n",
    "test(['9913235499'],'Invalid ID\\n') #\n",
    "print('ok')"
   ]
  },
  {
   "cell_type": "code",
   "execution_count": 117,
   "metadata": {
    "deletable": false,
    "editable": false,
    "nbgrader": {
     "cell_type": "code",
     "checksum": "7ee173c9060a4269644ff5f8a7a54b1d",
     "grade": true,
     "grade_id": "cell-b0a70b43893b52b0",
     "locked": true,
     "points": 1,
     "schema_version": 3,
     "solution": false,
     "task": false
    }
   },
   "outputs": [
    {
     "data": {
      "text/plain": [
       "'เทสลับ1'"
      ]
     },
     "execution_count": 117,
     "metadata": {},
     "output_type": "execute_result"
    }
   ],
   "source": [
    "'''เทสลับ1'''"
   ]
  },
  {
   "cell_type": "code",
   "execution_count": 119,
   "metadata": {
    "deletable": false,
    "editable": false,
    "nbgrader": {
     "cell_type": "code",
     "checksum": "e3f23e0f4c1d7e19782dfd1b2e80a2ea",
     "grade": true,
     "grade_id": "cell-c525998e7e40c514",
     "locked": true,
     "points": 1,
     "schema_version": 3,
     "solution": false,
     "task": false
    }
   },
   "outputs": [
    {
     "data": {
      "text/plain": [
       "'เทสลับ2'"
      ]
     },
     "execution_count": 119,
     "metadata": {},
     "output_type": "execute_result"
    }
   ],
   "source": [
    "'''เทสลับ2'''"
   ]
  },
  {
   "cell_type": "code",
   "execution_count": 121,
   "metadata": {
    "deletable": false,
    "editable": false,
    "nbgrader": {
     "cell_type": "code",
     "checksum": "d7ae65fdcc96d1132b7025c8d67d35a7",
     "grade": true,
     "grade_id": "cell-bfd645796fc7f6a9",
     "locked": true,
     "points": 1,
     "schema_version": 3,
     "solution": false,
     "task": false
    }
   },
   "outputs": [
    {
     "data": {
      "text/plain": [
       "'เทสลับ3'"
      ]
     },
     "execution_count": 121,
     "metadata": {},
     "output_type": "execute_result"
    }
   ],
   "source": [
    "'''เทสลับ3'''"
   ]
  },
  {
   "cell_type": "code",
   "execution_count": 123,
   "metadata": {
    "deletable": false,
    "editable": false,
    "nbgrader": {
     "cell_type": "code",
     "checksum": "f4b8fd430ea3fb0cee8e357908394bcf",
     "grade": true,
     "grade_id": "cell-8db8cffe387b8909",
     "locked": true,
     "points": 1,
     "schema_version": 3,
     "solution": false,
     "task": false
    }
   },
   "outputs": [
    {
     "data": {
      "text/plain": [
       "'เทสลับ4'"
      ]
     },
     "execution_count": 123,
     "metadata": {},
     "output_type": "execute_result"
    }
   ],
   "source": [
    "'''เทสลับ4'''"
   ]
  },
  {
   "cell_type": "code",
   "execution_count": 125,
   "metadata": {
    "deletable": false,
    "editable": false,
    "nbgrader": {
     "cell_type": "code",
     "checksum": "f2c195c845bec20a675843d02d1021f9",
     "grade": true,
     "grade_id": "cell-d133af3b31b42e2c",
     "locked": true,
     "points": 1,
     "schema_version": 3,
     "solution": false,
     "task": false
    }
   },
   "outputs": [
    {
     "data": {
      "text/plain": [
       "'เทสลับ5'"
      ]
     },
     "execution_count": 125,
     "metadata": {},
     "output_type": "execute_result"
    }
   ],
   "source": [
    "'''เทสลับ5'''"
   ]
  },
  {
   "cell_type": "code",
   "execution_count": null,
   "metadata": {},
   "outputs": [],
   "source": []
  }
 ],
 "metadata": {
  "BondSan": "137cf1d909994413df8cda9ad5d68fc0577675bd8ad0528776c54e8c37930284bd02d6dafb33079fec194d504447ef84e58b4ecb54c95bac12572f214e0c76ea43f66baf70549e744ef7351f7e22f46a0e07f4e7172294af29b970c72363490773e2bda4b0a94208f2fe32b2b4e35553fca6675e8ce3ea0e3a1ea823e83061fe01adbeef37f0060dac181d789c50414842eaaf7b190238fe3b200478521c1827b46d26793b731bc16cbffc6628d5ca92832dea4cbe6652518b9346519164daf6a3ecd2fe7e7f4f765ee1ef7767d762a83c91851a618cfbb9b4e02ee51170239587b95d1ca69f0934e869c54c1aa69fb86b7e743c2afba931c080e11aed2d6a78",
  "kernelspec": {
   "display_name": "Python 3 (ipykernel)",
   "language": "python",
   "name": "python3"
  },
  "language_info": {
   "codemirror_mode": {
    "name": "ipython",
    "version": 3
   },
   "file_extension": ".py",
   "mimetype": "text/x-python",
   "name": "python",
   "nbconvert_exporter": "python",
   "pygments_lexer": "ipython3",
   "version": "3.12.4"
  }
 },
 "nbformat": 4,
 "nbformat_minor": 4
}
