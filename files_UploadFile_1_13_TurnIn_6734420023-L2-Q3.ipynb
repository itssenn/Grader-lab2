{
 "cells": [
  {
   "attachments": {
    "xxxx.png": {
     "image/png": "[encoded data removed]"
    }
   },
   "cell_type": "markdown",
   "metadata": {
    "deletable": false,
    "editable": false,
    "nbgrader": {
     "cell_type": "markdown",
     "checksum": "77013bf7d513925193ae22563e9977ff",
     "grade": false,
     "grade_id": "cell-dbf37dcea5d7dc5c",
     "locked": true,
     "schema_version": 3,
     "solution": false,
     "task": false
    }
   },
   "source": [
    "---\n",
    "## Q3\n",
    "จงเขียนโปรแกรมที่รับพิกัด (x,y) ของจุดหนึ่ง ในรูปแบบจำนวนเต็ม แล้วตรวจสอบว่าจุดนั้นอยู่ในบริเวณ A หรือ B หรือ C หรือ D ในรูปข้างล่าง \n",
    "\n",
    "\n",
    "![xxxx.png](attachment:xxxx.png)\n",
    "\n"
   ]
  },
  {
   "cell_type": "markdown",
   "metadata": {
    "deletable": false,
    "editable": false,
    "nbgrader": {
     "cell_type": "markdown",
     "checksum": "17ec6295a42c55a45206151b89ae0cbb",
     "grade": false,
     "grade_id": "cell-7ae57c7b0fc2869d",
     "locked": true,
     "schema_version": 3,
     "solution": false,
     "task": false
    }
   },
   "source": [
    "### ตัวอย่างการทำงาน: \n",
    "\n",
    "x,y : **10,20** <br>\n",
    "( 10 , 20 ) is in A"
   ]
  },
  {
   "cell_type": "markdown",
   "metadata": {
    "deletable": false,
    "editable": false,
    "nbgrader": {
     "cell_type": "markdown",
     "checksum": "d0e20c795576c37828b377c972abbbe6",
     "grade": false,
     "grade_id": "cell-1b10c564484fa711",
     "locked": true,
     "schema_version": 3,
     "solution": false,
     "task": false
    }
   },
   "source": [
    "### ตัวอย่างการทำงาน: \n",
    " \n",
    "x,y : **0,0** <br>\n",
    "( 0 , 0 ) is in B"
   ]
  },
  {
   "cell_type": "markdown",
   "metadata": {
    "deletable": false,
    "editable": false,
    "nbgrader": {
     "cell_type": "markdown",
     "checksum": "d75986fd90818b70f0b90811c8968154",
     "grade": false,
     "grade_id": "cell-fc86ada0a7d9d7ee",
     "locked": true,
     "schema_version": 3,
     "solution": false,
     "task": false
    }
   },
   "source": [
    "### ตัวอย่างการทำงาน: \n",
    "\n",
    "x,y : **9,19** <br>\n",
    "( 9 , 19 ) is in C"
   ]
  },
  {
   "cell_type": "markdown",
   "metadata": {
    "deletable": false,
    "editable": false,
    "nbgrader": {
     "cell_type": "markdown",
     "checksum": "6a2f09a1a39be9045ebdbd34535a491f",
     "grade": false,
     "grade_id": "cell-c4bec50505bf5651",
     "locked": true,
     "schema_version": 3,
     "solution": false,
     "task": false
    }
   },
   "source": [
    "### ตัวอย่างการทำงาน: \n",
    "\n",
    "x,y : **20,20** <br>\n",
    "( 20 , 20 ) is in A"
   ]
  },
  {
   "cell_type": "markdown",
   "metadata": {
    "deletable": false,
    "editable": false,
    "nbgrader": {
     "cell_type": "markdown",
     "checksum": "0b36a261c823894d67904c191fb18860",
     "grade": false,
     "grade_id": "cell-1da5027704110967",
     "locked": true,
     "schema_version": 3,
     "solution": false,
     "task": false
    }
   },
   "source": [
    "### ตัวอย่างการทำงาน: \n",
    "\n",
    "x,y : **40,-10** <br>( 40 , -10 ) is in D"
   ]
  },
  {
   "cell_type": "code",
   "execution_count": 59,
   "metadata": {
    "deletable": false,
    "nbgrader": {
     "cell_type": "code",
     "checksum": "fce159374ddbd1242464b006c215d641",
     "grade": false,
     "grade_id": "name",
     "locked": false,
     "schema_version": 3,
     "solution": true
    }
   },
   "outputs": [],
   "source": [
    "def run():\n",
    "    x, y = input(\"x,y :\").split(\",\")\n",
    "    x = int(x)\n",
    "    y = int(y)\n",
    "    \n",
    "    if x == 0 and y == 20 :\n",
    "        print(f\"( {x} , {y} ) is in D\")\n",
    "    elif x == 10 and y == 0 :\n",
    "        print(f\"( {x} , {y} ) is in D\")\n",
    "    elif -40 <= x <= 0 and -20 <= y <= 20 :\n",
    "        print(f\"( {x} , {y} ) is in B\")\n",
    "    elif 0 <=x <= 10 and -20 <= y <= 0 :\n",
    "        print(f\"( {x} , {y} ) is in B\")\n",
    "    elif 10 <= x <= 40 and 0 <= y <= 40 :\n",
    "        print(f\"( {x} , {y} ) is in A\")\n",
    "    elif 0 <= x <= 10 and 20 <= y <= 40 :\n",
    "        print(f\"( {x} , {y} ) is in A\")\n",
    "    elif 0 <= x <= 11 and 0 <= y <= 20 :\n",
    "        print(f\"( {x} , {y} ) is in C\")\n",
    "    else :\n",
    "        print(f\"( {x} , {y} ) is in D\")\n",
    "    "
   ]
  },
  {
   "cell_type": "code",
   "execution_count": 60,
   "metadata": {
    "deletable": false,
    "editable": false,
    "nbgrader": {
     "cell_type": "code",
     "checksum": "b7b03893ed0aaf1a2af60ae612b4be37",
     "grade": false,
     "grade_id": "cell-befa13e6c82bd29b",
     "locked": true,
     "schema_version": 3,
     "solution": false,
     "task": false
    }
   },
   "outputs": [
    {
     "name": "stdout",
     "output_type": "stream",
     "text": [
      "x,y :10,20\n",
      "( 10 , 20 ) is in C\n"
     ]
    }
   ],
   "source": [
    "'''ตรวจสอบผลลัพธ์ของโปรแกรมด้วยการรันที่ cell นี้'''\n",
    "run()"
   ]
  },
  {
   "cell_type": "code",
   "execution_count": 61,
   "metadata": {
    "deletable": false,
    "editable": false,
    "nbgrader": {
     "cell_type": "code",
     "checksum": "98777bef341b333d2832a797ee356d8a",
     "grade": false,
     "grade_id": "partial",
     "locked": true,
     "schema_version": 3,
     "solution": false,
     "task": false
    }
   },
   "outputs": [],
   "source": [
    "'''ตรวจสอบผลการคำนวณ'''\n",
    "from unittest.mock import patch\n",
    "from io import StringIO\n",
    "import math\n",
    "\n",
    "def test(inputs,expected_output): \n",
    "    with patch('builtins.input', side_effect=inputs), patch('sys.stdout', new_callable=StringIO) as mock_stdout:\n",
    "        run()\n",
    "        assert mock_stdout.getvalue() == expected_output,mock_stdout.getvalue()\n",
    "def test_easy_print(inputs,expected_output):\n",
    "    with patch('builtins.input', side_effect=inputs), patch('sys.stdout', new_callable=StringIO) as mock_stdout:\n",
    "        run()\n",
    "        assert expected_output in mock_stdout.getvalue(), mock_stdout.getvalue()"
   ]
  },
  {
   "cell_type": "code",
   "execution_count": 62,
   "metadata": {
    "deletable": false,
    "editable": false,
    "nbgrader": {
     "cell_type": "code",
     "checksum": "309adba198faeddb83df70f414198917",
     "grade": true,
     "grade_id": "easy_print",
     "locked": true,
     "points": 1,
     "schema_version": 3,
     "solution": false,
     "task": false
    }
   },
   "outputs": [
    {
     "name": "stdout",
     "output_type": "stream",
     "text": [
      "ok\n"
     ]
    }
   ],
   "source": [
    "'''ตรวจสอบการแสดงผลลัพธ์อย่างง่าย'''\n",
    "test_easy_print(inputs=['10,20'],expected_output='(')\n",
    "print('ok')"
   ]
  },
  {
   "cell_type": "code",
   "execution_count": 63,
   "metadata": {
    "deletable": false,
    "editable": false,
    "nbgrader": {
     "cell_type": "code",
     "checksum": "9d4f2ebeed48a4eb623f4d6c459579cf",
     "grade": true,
     "grade_id": "exact",
     "locked": false,
     "points": 1,
     "schema_version": 3,
     "solution": false
    }
   },
   "outputs": [
    {
     "ename": "AssertionError",
     "evalue": "( 10 , 20 ) is in C\n",
     "output_type": "error",
     "traceback": [
      "\u001b[1;31m---------------------------------------------------------------------------\u001b[0m",
      "\u001b[1;31mAssertionError\u001b[0m                            Traceback (most recent call last)",
      "Input \u001b[1;32mIn [63]\u001b[0m, in \u001b[0;36m<cell line: 2>\u001b[1;34m()\u001b[0m\n\u001b[0;32m      1\u001b[0m \u001b[38;5;124;03m'''ตรวจสอบผลการคำนวณและการแสดงผลลัพธ์ให้เหมือนกับโจทย์ที่กำหนดให้'''\u001b[39;00m\n\u001b[1;32m----> 2\u001b[0m \u001b[43mtest\u001b[49m\u001b[43m(\u001b[49m\u001b[43m[\u001b[49m\u001b[38;5;124;43m'\u001b[39;49m\u001b[38;5;124;43m10,20\u001b[39;49m\u001b[38;5;124;43m'\u001b[39;49m\u001b[43m]\u001b[49m\u001b[43m,\u001b[49m\u001b[38;5;124;43m'\u001b[39;49m\u001b[38;5;124;43m( 10 , 20 ) is in A\u001b[39;49m\u001b[38;5;130;43;01m\\n\u001b[39;49;00m\u001b[38;5;124;43m'\u001b[39;49m\u001b[43m)\u001b[49m  \u001b[38;5;66;03m#A\u001b[39;00m\n\u001b[0;32m      3\u001b[0m test([\u001b[38;5;124m'\u001b[39m\u001b[38;5;124m20,20\u001b[39m\u001b[38;5;124m'\u001b[39m],\u001b[38;5;124m'\u001b[39m\u001b[38;5;124m( 20 , 20 ) is in A\u001b[39m\u001b[38;5;130;01m\\n\u001b[39;00m\u001b[38;5;124m'\u001b[39m)  \u001b[38;5;66;03m#A\u001b[39;00m\n\u001b[0;32m      4\u001b[0m \u001b[38;5;28mprint\u001b[39m(\u001b[38;5;124m'\u001b[39m\u001b[38;5;124mok\u001b[39m\u001b[38;5;124m'\u001b[39m)\n",
      "Input \u001b[1;32mIn [61]\u001b[0m, in \u001b[0;36mtest\u001b[1;34m(inputs, expected_output)\u001b[0m\n\u001b[0;32m      7\u001b[0m \u001b[38;5;28;01mwith\u001b[39;00m patch(\u001b[38;5;124m'\u001b[39m\u001b[38;5;124mbuiltins.input\u001b[39m\u001b[38;5;124m'\u001b[39m, side_effect\u001b[38;5;241m=\u001b[39minputs), patch(\u001b[38;5;124m'\u001b[39m\u001b[38;5;124msys.stdout\u001b[39m\u001b[38;5;124m'\u001b[39m, new_callable\u001b[38;5;241m=\u001b[39mStringIO) \u001b[38;5;28;01mas\u001b[39;00m mock_stdout:\n\u001b[0;32m      8\u001b[0m     run()\n\u001b[1;32m----> 9\u001b[0m     \u001b[38;5;28;01massert\u001b[39;00m mock_stdout\u001b[38;5;241m.\u001b[39mgetvalue() \u001b[38;5;241m==\u001b[39m expected_output,mock_stdout\u001b[38;5;241m.\u001b[39mgetvalue()\n",
      "\u001b[1;31mAssertionError\u001b[0m: ( 10 , 20 ) is in C\n"
     ]
    }
   ],
   "source": [
    "'''ตรวจสอบผลการคำนวณและการแสดงผลลัพธ์ให้เหมือนกับโจทย์ที่กำหนดให้'''\n",
    "test(['10,20'],'( 10 , 20 ) is in A\\n')  #A\n",
    "test(['20,20'],'( 20 , 20 ) is in A\\n')  #A\n",
    "print('ok')"
   ]
  },
  {
   "cell_type": "code",
   "execution_count": 64,
   "metadata": {
    "deletable": false,
    "editable": false,
    "nbgrader": {
     "cell_type": "code",
     "checksum": "8af13d5315023e2e319b2a59aec8b236",
     "grade": true,
     "grade_id": "cell-06baa5f150be41de",
     "locked": true,
     "points": 1,
     "schema_version": 3,
     "solution": false,
     "task": false
    }
   },
   "outputs": [
    {
     "name": "stdout",
     "output_type": "stream",
     "text": [
      "ok\n"
     ]
    }
   ],
   "source": [
    "test(['0,0'],'( 0 , 0 ) is in B\\n')    #B\n",
    "test(['0,10'],'( 0 , 10 ) is in B\\n')  #B\n",
    "print('ok')"
   ]
  },
  {
   "cell_type": "code",
   "execution_count": 65,
   "metadata": {
    "deletable": false,
    "editable": false,
    "nbgrader": {
     "cell_type": "code",
     "checksum": "f3ae5dc0491b76abfb5a1a40b9d8cdf3",
     "grade": true,
     "grade_id": "cell-f9f44beb0937144f",
     "locked": true,
     "points": 1,
     "schema_version": 3,
     "solution": false,
     "task": false
    }
   },
   "outputs": [
    {
     "name": "stdout",
     "output_type": "stream",
     "text": [
      "ok\n"
     ]
    }
   ],
   "source": [
    "test(['9,19'],'( 9 , 19 ) is in C\\n')   #C \n",
    "test(['1,2'],'( 1 , 2 ) is in C\\n')   #C \n",
    "print('ok')"
   ]
  },
  {
   "cell_type": "code",
   "execution_count": 66,
   "metadata": {
    "deletable": false,
    "editable": false,
    "nbgrader": {
     "cell_type": "code",
     "checksum": "51e08546666fa96a8c650bb19d4400fe",
     "grade": true,
     "grade_id": "cell-b5c35c709d70c9d2",
     "locked": true,
     "points": 1,
     "schema_version": 3,
     "solution": false,
     "task": false
    }
   },
   "outputs": [
    {
     "name": "stdout",
     "output_type": "stream",
     "text": [
      "ok\n"
     ]
    }
   ],
   "source": [
    "test(['40,-10'],'( 40 , -10 ) is in D\\n') #D\n",
    "test(['0,20'],'( 0 , 20 ) is in D\\n') #D\n",
    "test(['10,0'],'( 10 , 0 ) is in D\\n') #D\n",
    "print('ok')"
   ]
  },
  {
   "cell_type": "code",
   "execution_count": 41,
   "metadata": {
    "deletable": false,
    "editable": false,
    "nbgrader": {
     "cell_type": "code",
     "checksum": "ed63c8774c4405c447f7f418f251a8eb",
     "grade": true,
     "grade_id": "cell-6b7aad83136b70ad",
     "locked": true,
     "points": 1,
     "schema_version": 3,
     "solution": false,
     "task": false
    }
   },
   "outputs": [
    {
     "data": {
      "text/plain": [
       "'เทสลับ'"
      ]
     },
     "execution_count": 41,
     "metadata": {},
     "output_type": "execute_result"
    }
   ],
   "source": [
    "'''เทสลับ'''"
   ]
  },
  {
   "cell_type": "code",
   "execution_count": null,
   "metadata": {},
   "outputs": [],
   "source": []
  }
 ],
 "metadata": {
  "BondSan": "9a3ecc2b0221996a0c617f777bd3c56071c8391862b7deeb92a817859fc8575f628cc6afa1521d9583636b108bd1694fba2a1e08342cfa1b4255fda2f37be3d5434f38eb81b7292203fc8b931b9173a2fc9f554729433544b6dc2a611e628a138ca138d99c07052c01d57355db7b22242990fb16ac772be360f2fe7c7ca3c9eba7e4be6042d5919e8c4c1f69c22c7da801c03613b34c3b8c1218376281130ffdefb0ccc5c7a7c16467fc2349b78da8f56a3956b97dbe77342919bb01f1ecdadfa679ddd3f4f9632eed5ba7a05054f19c76c6ad059f619dd4fb285d91ac82e21981e4f528ca36e00e0d9836fc9e4a2be06d1b65a6feca101961bdd62e21649c5a",
  "kernelspec": {
   "display_name": "Python 3 (ipykernel)",
   "language": "python",
   "name": "python3"
  },
  "language_info": {
   "codemirror_mode": {
    "name": "ipython",
    "version": 3
   },
   "file_extension": ".py",
   "mimetype": "text/x-python",
   "name": "python",
   "nbconvert_exporter": "python",
   "pygments_lexer": "ipython3",
   "version": "3.9.12"
  }
 },
 "nbformat": 4,
 "nbformat_minor": 4
}
