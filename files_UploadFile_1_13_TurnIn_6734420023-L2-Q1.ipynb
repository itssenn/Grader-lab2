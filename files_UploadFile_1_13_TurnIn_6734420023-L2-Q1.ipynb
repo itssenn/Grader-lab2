{
 "cells": [
  {
   "cell_type": "markdown",
   "metadata": {
    "deletable": false,
    "editable": false,
    "nbgrader": {
     "cell_type": "markdown",
     "checksum": "f10702819299d6e95ef06dc384c86fb2",
     "grade": false,
     "grade_id": "cell-dbf37dcea5d7dc5c",
     "locked": true,
     "schema_version": 3,
     "solution": false,
     "task": false
    }
   },
   "source": [
    "---\n",
    "## Q1\n",
    "จงเขียนโปรแกรมที่คำนวณหาผลเฉลยของสมการกำลังสอง (quadratic equation) โดยให้รับสัมประสิทธิ์\n",
    "$𝑎, 𝑏, 𝑐$ ในสมการ $𝑎𝑥^2 + 𝑏𝑥 + 𝑐 = 0$ จากผู้ใช้แล้วคำนวณหาผลเฉลยจากสูตร $𝑥 = \\frac{−𝑏± \\sqrt{b^2-4ac}} {2a} $ ได้ให้\n",
    "คำนวณและพิมพ์ผลเฉลย \n",
    "\n",
    "ถ้าไม่สามารถหาได้ให้พิมพ์ข้อความ 'No real solution.' ดังตัวอย่างข้างล่างนี้"
   ]
  },
  {
   "cell_type": "markdown",
   "metadata": {
    "deletable": false,
    "editable": false,
    "nbgrader": {
     "cell_type": "markdown",
     "checksum": "499233daf64ba226fbe4d6b77c02bf4e",
     "grade": false,
     "grade_id": "cell-7ae57c7b0fc2869d",
     "locked": true,
     "schema_version": 3,
     "solution": false,
     "task": false
    }
   },
   "source": [
    "### ตัวอย่างการทำงาน: \n",
    "\n",
    "Enter coefficients a, b, c : **1, 4, 3** <br>\n",
    "x = -1.0 , -3.0"
   ]
  },
  {
   "cell_type": "markdown",
   "metadata": {
    "deletable": false,
    "editable": false,
    "nbgrader": {
     "cell_type": "markdown",
     "checksum": "b4ea9719e9ff85c52423b55aea4d47e0",
     "grade": false,
     "grade_id": "cell-1b10c564484fa711",
     "locked": true,
     "schema_version": 3,
     "solution": false,
     "task": false
    }
   },
   "source": [
    "### ตัวอย่างการทำงาน: \n",
    "\n",
    "Enter coefficients a, b, c : **2.3, -1.5, 1.5** <br>\n",
    "No real solution."
   ]
  },
  {
   "cell_type": "markdown",
   "metadata": {
    "deletable": false,
    "editable": false,
    "nbgrader": {
     "cell_type": "markdown",
     "checksum": "7d0788faf8bb3657060160cada1c3e59",
     "grade": false,
     "grade_id": "cell-fc86ada0a7d9d7ee",
     "locked": true,
     "schema_version": 3,
     "solution": false,
     "task": false
    }
   },
   "source": [
    "### ตัวอย่างการทำงาน: \n",
    "\n",
    "Enter coefficients a, b, c : **2.5, -8.7, 2.1** <br>x = 3.219053751558745 , 0.26094624844125425"
   ]
  },
  {
   "cell_type": "markdown",
   "metadata": {
    "deletable": false,
    "editable": false,
    "nbgrader": {
     "cell_type": "markdown",
     "checksum": "20d0423e8977af9cacd5d46ce8249496",
     "grade": false,
     "grade_id": "cell-7756331ade47aa76",
     "locked": true,
     "schema_version": 3,
     "solution": false,
     "task": false
    }
   },
   "source": [
    "### ตัวอย่างการทำงาน: \n",
    "\n",
    "Enter coefficients a, b, c : **0, 1, 5**<br>No real solution."
   ]
  },
  {
   "cell_type": "code",
   "execution_count": 96,
   "metadata": {
    "deletable": false,
    "nbgrader": {
     "cell_type": "code",
     "checksum": "b200d6e6b1dcb53db9c7782614ea5d49",
     "grade": false,
     "grade_id": "name",
     "locked": false,
     "schema_version": 3,
     "solution": true
    }
   },
   "outputs": [],
   "source": [
    "import math\n",
    "\n",
    "def run():\n",
    "    a, b, c = input('Enter coefficients a, b, c : ').split(\",\")\n",
    "    A = float(a)\n",
    "    B = float(b)\n",
    "    C = float(c)\n",
    "    if B**2 - 4*A*C < 0 or A == 0 :\n",
    "        print('No real solution.')\n",
    "    else :\n",
    "        x1 = ((-1*B) + math.sqrt(B**2 - 4*A*C))/ (2*A)\n",
    "        x2 = ((-1*B) - math.sqrt(B**2 - 4*A*C))/ (2*A)\n",
    "        print(f'x = {x1} , {x2}')\n"
   ]
  },
  {
   "cell_type": "code",
   "execution_count": 97,
   "metadata": {
    "deletable": false,
    "editable": false,
    "nbgrader": {
     "cell_type": "code",
     "checksum": "b7b03893ed0aaf1a2af60ae612b4be37",
     "grade": false,
     "grade_id": "cell-befa13e6c82bd29b",
     "locked": true,
     "schema_version": 3,
     "solution": false,
     "task": false
    }
   },
   "outputs": [
    {
     "name": "stdout",
     "output_type": "stream",
     "text": [
      "Enter coefficients a, b, c : 2.5,-8.7,2.1\n",
      "x = 3.219053751558745 , 0.26094624844125425\n"
     ]
    }
   ],
   "source": [
    "'''ตรวจสอบผลลัพธ์ของโปรแกรมด้วยการรันที่ cell นี้'''\n",
    "run()"
   ]
  },
  {
   "cell_type": "code",
   "execution_count": 98,
   "metadata": {
    "deletable": false,
    "editable": false,
    "nbgrader": {
     "cell_type": "code",
     "checksum": "98777bef341b333d2832a797ee356d8a",
     "grade": false,
     "grade_id": "partial",
     "locked": true,
     "schema_version": 3,
     "solution": false,
     "task": false
    }
   },
   "outputs": [],
   "source": [
    "'''ตรวจสอบผลการคำนวณ'''\n",
    "from unittest.mock import patch\n",
    "from io import StringIO\n",
    "import math\n",
    "\n",
    "def test(inputs,expected_output): \n",
    "    with patch('builtins.input', side_effect=inputs), patch('sys.stdout', new_callable=StringIO) as mock_stdout:\n",
    "        run()\n",
    "        assert mock_stdout.getvalue() == expected_output,mock_stdout.getvalue()\n",
    "def test_easy_print(inputs,expected_output):\n",
    "    with patch('builtins.input', side_effect=inputs), patch('sys.stdout', new_callable=StringIO) as mock_stdout:\n",
    "        run()\n",
    "        assert expected_output in mock_stdout.getvalue(), mock_stdout.getvalue()"
   ]
  },
  {
   "cell_type": "code",
   "execution_count": 99,
   "metadata": {
    "deletable": false,
    "editable": false,
    "nbgrader": {
     "cell_type": "code",
     "checksum": "25114d0593cd953b7a7c598e1595a6e5",
     "grade": true,
     "grade_id": "easy_print",
     "locked": true,
     "points": 1,
     "schema_version": 3,
     "solution": false,
     "task": false
    }
   },
   "outputs": [
    {
     "name": "stdout",
     "output_type": "stream",
     "text": [
      "ok\n"
     ]
    }
   ],
   "source": [
    "'''ตรวจสอบการแสดงผลลัพธ์อย่างง่าย'''\n",
    "test_easy_print(inputs=['1,4,3'],expected_output='x')\n",
    "print('ok')"
   ]
  },
  {
   "cell_type": "code",
   "execution_count": 100,
   "metadata": {
    "deletable": false,
    "editable": false,
    "nbgrader": {
     "cell_type": "code",
     "checksum": "636c5c0edce7a1610282e2d9975e238d",
     "grade": true,
     "grade_id": "cell-b2366c75c5a74b94",
     "locked": true,
     "points": 1,
     "schema_version": 3,
     "solution": false,
     "task": false
    }
   },
   "outputs": [
    {
     "name": "stdout",
     "output_type": "stream",
     "text": [
      "ok\n"
     ]
    }
   ],
   "source": [
    "'''ตรวจสอบผลการคำนวณและการแสดงผลลัพธ์ให้เหมือนกับโจทย์ที่กำหนดให้'''\n",
    "test(['1,4,3'],'x = -1.0 , -3.0\\n')\n",
    "test(['2.5,-8.7,2.1'],'x = 3.219053751558745 , 0.26094624844125425\\n')\n",
    "test(['1,1,-1'],'x = 0.6180339887498949 , -1.618033988749895\\n')\n",
    "test(['1,2,1'],'x = -1.0 , -1.0\\n')\n",
    "print('ok')"
   ]
  },
  {
   "cell_type": "code",
   "execution_count": 101,
   "metadata": {
    "deletable": false,
    "editable": false,
    "nbgrader": {
     "cell_type": "code",
     "checksum": "e5639c48de460ef32d25e812ca6f578a",
     "grade": true,
     "grade_id": "cell-599d9cfd5a440e1d",
     "locked": true,
     "points": 1,
     "schema_version": 3,
     "solution": false,
     "task": false
    }
   },
   "outputs": [
    {
     "name": "stdout",
     "output_type": "stream",
     "text": [
      "ok\n"
     ]
    }
   ],
   "source": [
    "'''ตรวจสอบผลการคำนวณและการแสดงผลลัพธ์ให้เหมือนกับโจทย์ที่กำหนดให้'''\n",
    "test(['2.3,-1.5,1.5'],'No real solution.\\n')\n",
    "test(['1,1,1'],'No real solution.\\n')\n",
    "test(['0,1,5'], 'No real solution.\\n')\n",
    "print('ok')"
   ]
  },
  {
   "cell_type": "code",
   "execution_count": 102,
   "metadata": {
    "deletable": false,
    "editable": false,
    "nbgrader": {
     "cell_type": "code",
     "checksum": "9c81662198f9d7b857db7e96359d0aef",
     "grade": true,
     "grade_id": "cell-f8df715a844531fb",
     "locked": true,
     "points": 1,
     "schema_version": 3,
     "solution": false,
     "task": false
    }
   },
   "outputs": [
    {
     "data": {
      "text/plain": [
       "'เทสลับ'"
      ]
     },
     "execution_count": 102,
     "metadata": {},
     "output_type": "execute_result"
    }
   ],
   "source": [
    "'''เทสลับ'''"
   ]
  },
  {
   "cell_type": "code",
   "execution_count": null,
   "metadata": {},
   "outputs": [],
   "source": []
  }
 ],
 "metadata": {
  "BondSan": "8d85c4856fbbe8529570a447449adfa793925930dd8ea53d2ea5842183943711c70d21cfd9eeefcd3c2bd16a7ca6013de222e9479c80dca85d11f8ddfe10359a3bdb8d1ddddeefe759a1c7325a1e81d3e5d1b0530ee8370a44d908cea82a4aae4dab5ec327bef2a9027f7b5e3342d3a9274eba05dceed6d189aec83b5d605df196f1a466c90447fb5b7a652dffa12828bc43ac65a737fe051458b869ac195f225ac11e9360424dd6e6d51e31f4cbee4ea01e2a366df7186479cc94baf778dfdc186ba3eb7099cb0f1603e2eef07e88d129e22ee8588bd55c12a583018569ae8a3958a1d09fe080c8f893dc62c59698c75503d0e0d10f74c9bef902f176e04da9",
  "kernelspec": {
   "display_name": "Python 3 (ipykernel)",
   "language": "python",
   "name": "python3"
  },
  "language_info": {
   "codemirror_mode": {
    "name": "ipython",
    "version": 3
   },
   "file_extension": ".py",
   "mimetype": "text/x-python",
   "name": "python",
   "nbconvert_exporter": "python",
   "pygments_lexer": "ipython3",
   "version": "3.9.12"
  }
 },
 "nbformat": 4,
 "nbformat_minor": 4
}
