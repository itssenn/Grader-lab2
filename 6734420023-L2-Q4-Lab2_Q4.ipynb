{
 "cells": [
  {
   "cell_type": "markdown",
   "metadata": {
    "deletable": false,
    "editable": false,
    "nbgrader": {
     "cell_type": "markdown",
     "checksum": "cf9d4c7e7c6d3de42d3f0909536ec94a",
     "grade": false,
     "grade_id": "cell-dbf37dcea5d7dc5c",
     "locked": true,
     "schema_version": 3,
     "solution": false,
     "task": false
    }
   },
   "source": [
    "---\n",
    "## Q4\n",
    "จงเขียนโปรแกรมที่รับรหัสนิสิต แล้วตรวจสอบว่าเป็นรหัสที่ใช้ได้ คือ\n",
    "\n",
    "- เป็นเลข 10 หลัก\n",
    "\n",
    "- เลข 2 หลักแรกเป็นปีที่เข้าเรียน (50-66)\n",
    "\n",
    "- เลขหลักที่ 3 (จากหน้า) เป็น 3, 4 หรือ 7\n",
    "\n",
    "- เลข 2 หลักสุดท้ายของรหัสนิสิตเป็นรหัสคณะ คือ 21 22 23 24 25 26 27 28"
   ]
  },
  {
   "cell_type": "markdown",
   "metadata": {
    "deletable": false,
    "editable": false,
    "nbgrader": {
     "cell_type": "markdown",
     "checksum": "c2ed18978853a2ee9dac5730473d589a",
     "grade": false,
     "grade_id": "cell-7ae57c7b0fc2869d",
     "locked": true,
     "schema_version": 3,
     "solution": false,
     "task": false
    }
   },
   "source": [
    "### ตัวอย่างการทำงาน: \n",
    "\n",
    "Enter student ID : **6033235423** <br> Valid ID"
   ]
  },
  {
   "cell_type": "markdown",
   "metadata": {
    "deletable": false,
    "editable": false,
    "nbgrader": {
     "cell_type": "markdown",
     "checksum": "eaf6062c0e3e45efee69ac9f696560aa",
     "grade": false,
     "grade_id": "cell-1b10c564484fa711",
     "locked": true,
     "schema_version": 3,
     "solution": false,
     "task": false
    }
   },
   "source": [
    "### ตัวอย่างการทำงาน: \n",
    "\n",
    "Enter student ID : **6070013223** <br> Valid ID"
   ]
  },
  {
   "cell_type": "markdown",
   "metadata": {
    "deletable": false,
    "editable": false,
    "nbgrader": {
     "cell_type": "markdown",
     "checksum": "5baea08b0e7910a2a33dfbafc2469bf4",
     "grade": false,
     "grade_id": "cell-fc86ada0a7d9d7ee",
     "locked": true,
     "schema_version": 3,
     "solution": false,
     "task": false
    }
   },
   "source": [
    "### ตัวอย่างการทำงาน: \n",
    "\n",
    "Enter student ID : **5413200022** <br> Invalid ID"
   ]
  },
  {
   "cell_type": "markdown",
   "metadata": {
    "deletable": false,
    "editable": false,
    "nbgrader": {
     "cell_type": "markdown",
     "checksum": "a9dd245e75b29599a5234f74aa8266d1",
     "grade": false,
     "grade_id": "cell-7756331ade47aa76",
     "locked": true,
     "schema_version": 3,
     "solution": false,
     "task": false
    }
   },
   "source": [
    "###  ตัวอย่างการทำงาน: \n",
    "\n",
    "Enter student ID : **5413200099** <br> Invalid ID"
   ]
  },
  {
   "cell_type": "markdown",
   "metadata": {
    "deletable": false,
    "editable": false,
    "nbgrader": {
     "cell_type": "markdown",
     "checksum": "1229e76b7d6b024423cff447eed73fab",
     "grade": false,
     "grade_id": "cell-c4bec50505bf5651",
     "locked": true,
     "schema_version": 3,
     "solution": false,
     "task": false
    }
   },
   "source": [
    "### ตัวอย่างการทำงาน: \n",
    "\n",
    "Enter student ID : **60499** <br> Invalid ID"
   ]
  },
  {
   "cell_type": "markdown",
   "metadata": {
    "deletable": false,
    "editable": false,
    "nbgrader": {
     "cell_type": "markdown",
     "checksum": "a61754e8260c324cd26b04c984cf5a77",
     "grade": false,
     "grade_id": "cell-1da5027704110967",
     "locked": true,
     "schema_version": 3,
     "solution": false,
     "task": false
    }
   },
   "source": [
    "### ตัวอย่างการทำงาน: \n",
    "\n",
    "Enter student ID : **2013235499** <br> Invalid ID"
   ]
  },
  {
   "cell_type": "code",
   "execution_count": 87,
   "metadata": {
    "deletable": false,
    "nbgrader": {
     "cell_type": "code",
     "checksum": "b200d6e6b1dcb53db9c7782614ea5d49",
     "grade": false,
     "grade_id": "name",
     "locked": false,
     "schema_version": 3,
     "solution": true
    }
   },
   "outputs": [],
   "source": [
    "def run():\n",
    "    #id = int(input(\"Enter student ID :\"))\n",
    "    #if 5*(10**10) <= id <= 6.6*(10**10):\n",
    "        #if\n",
    "\n",
    "    #else :\n",
    "        #print(\"Invalid ID\")\n",
    "\n",
    "    id = str(input(\"Enter student ID :\"))\n",
    "    if len(id) == 10:\n",
    "        lst = list(str(id))\n",
    "        yr = int(lst[0]+lst[1])\n",
    "        trd = int(lst[2])\n",
    "        fct = int(lst[8]+lst[9])\n",
    "        if 50 <= yr <= 67 :\n",
    "            if trd == 3 or trd == 4 or trd == 7:\n",
    "                if fct in range(21,29):\n",
    "                    print(\"Valid ID\")\n",
    "                else :\n",
    "                    print(\"Invalid ID\")\n",
    "            else :\n",
    "                    print(\"Invalid ID\")\n",
    "        else :\n",
    "                    print(\"Invalid ID\")       \n",
    "    else :\n",
    "                    print(\"Invalid ID\")\n",
    "        "
   ]
  },
  {
   "cell_type": "code",
   "execution_count": 89,
   "metadata": {
    "deletable": false,
    "editable": false,
    "nbgrader": {
     "cell_type": "code",
     "checksum": "b7b03893ed0aaf1a2af60ae612b4be37",
     "grade": false,
     "grade_id": "cell-befa13e6c82bd29b",
     "locked": true,
     "schema_version": 3,
     "solution": false,
     "task": false
    }
   },
   "outputs": [
    {
     "name": "stdin",
     "output_type": "stream",
     "text": [
      "Enter student ID : 6734420023\n"
     ]
    },
    {
     "name": "stdout",
     "output_type": "stream",
     "text": [
      "Valid ID\n"
     ]
    }
   ],
   "source": [
    "'''ตรวจสอบผลลัพธ์ของโปรแกรมด้วยการรันที่ cell นี้'''\n",
    "run()"
   ]
  },
  {
   "cell_type": "code",
   "execution_count": 91,
   "metadata": {
    "deletable": false,
    "editable": false,
    "nbgrader": {
     "cell_type": "code",
     "checksum": "98777bef341b333d2832a797ee356d8a",
     "grade": false,
     "grade_id": "partial",
     "locked": true,
     "schema_version": 3,
     "solution": false,
     "task": false
    }
   },
   "outputs": [],
   "source": [
    "'''ตรวจสอบผลการคำนวณ'''\n",
    "from unittest.mock import patch\n",
    "from io import StringIO\n",
    "import math\n",
    "\n",
    "def test(inputs,expected_output): \n",
    "    with patch('builtins.input', side_effect=inputs), patch('sys.stdout', new_callable=StringIO) as mock_stdout:\n",
    "        run()\n",
    "        assert mock_stdout.getvalue() == expected_output,mock_stdout.getvalue()\n",
    "def test_easy_print(inputs,expected_output):\n",
    "    with patch('builtins.input', side_effect=inputs), patch('sys.stdout', new_callable=StringIO) as mock_stdout:\n",
    "        run()\n",
    "        assert expected_output in mock_stdout.getvalue(), mock_stdout.getvalue()"
   ]
  },
  {
   "cell_type": "code",
   "execution_count": 93,
   "metadata": {
    "deletable": false,
    "editable": false,
    "nbgrader": {
     "cell_type": "code",
     "checksum": "cfc04f1ca5f3abde832c3812d9f745c6",
     "grade": true,
     "grade_id": "easy_print",
     "locked": true,
     "points": 1,
     "schema_version": 3,
     "solution": false,
     "task": false
    }
   },
   "outputs": [
    {
     "name": "stdout",
     "output_type": "stream",
     "text": [
      "ok\n"
     ]
    }
   ],
   "source": [
    "'''ตรวจสอบการแสดงผลลัพธ์อย่างง่าย'''\n",
    "test_easy_print(inputs=['6633235423'],expected_output='Valid')\n",
    "print('ok')"
   ]
  },
  {
   "cell_type": "code",
   "execution_count": 95,
   "metadata": {
    "deletable": false,
    "editable": false,
    "nbgrader": {
     "cell_type": "code",
     "checksum": "e61262f7f8dcde1d572825f437fdcbdd",
     "grade": true,
     "grade_id": "exact",
     "locked": false,
     "points": 1,
     "schema_version": 3,
     "solution": false
    }
   },
   "outputs": [
    {
     "name": "stdout",
     "output_type": "stream",
     "text": [
      "ok\n"
     ]
    }
   ],
   "source": [
    "'''ตรวจสอบผลการคำนวณและการแสดงผลลัพธ์ให้เหมือนกับโจทย์ที่กำหนดให้'''\n",
    "test(['6033235423'],'Valid ID\\n')  \n",
    "test(['6634339823'],'Valid ID\\n')\n",
    "print('ok')"
   ]
  },
  {
   "cell_type": "code",
   "execution_count": 97,
   "metadata": {
    "deletable": false,
    "editable": false,
    "nbgrader": {
     "cell_type": "code",
     "checksum": "7d6c293cb1d07f6e72bb6056116c002d",
     "grade": true,
     "grade_id": "cell-b5aa08ac34d99fc3",
     "locked": true,
     "points": 1,
     "schema_version": 3,
     "solution": false,
     "task": false
    }
   },
   "outputs": [
    {
     "name": "stdout",
     "output_type": "stream",
     "text": [
      "ok\n"
     ]
    }
   ],
   "source": [
    "'''ตรวจสอบผลการคำนวณและการแสดงผลลัพธ์ให้เหมือนกับโจทย์ที่กำหนดให้'''\n",
    "test(['5413200022'],'Invalid ID\\n')  \n",
    "test(['5413200099'],'Invalid ID\\n')  \n",
    "test(['60499'],'Invalid ID\\n')  \n",
    "test(['2013235499'],'Invalid ID\\n')\n",
    "print('ok')"
   ]
  },
  {
   "cell_type": "code",
   "execution_count": 99,
   "metadata": {
    "deletable": false,
    "editable": false,
    "nbgrader": {
     "cell_type": "code",
     "checksum": "50379e623f9c472b540e7eebdb34a8ea",
     "grade": true,
     "grade_id": "cell-515ca56828bfa5a2",
     "locked": true,
     "points": 1,
     "schema_version": 3,
     "solution": false,
     "task": false
    }
   },
   "outputs": [
    {
     "data": {
      "text/plain": [
       "'เทสลับ1'"
      ]
     },
     "execution_count": 99,
     "metadata": {},
     "output_type": "execute_result"
    }
   ],
   "source": [
    "'''เทสลับ1'''"
   ]
  },
  {
   "cell_type": "code",
   "execution_count": 101,
   "metadata": {
    "deletable": false,
    "editable": false,
    "nbgrader": {
     "cell_type": "code",
     "checksum": "25073bdd655bfe07f0099915f4c774bd",
     "grade": true,
     "grade_id": "cell-47f27b53b38d0769",
     "locked": true,
     "points": 1,
     "schema_version": 3,
     "solution": false,
     "task": false
    }
   },
   "outputs": [
    {
     "data": {
      "text/plain": [
       "'เทสลับ2'"
      ]
     },
     "execution_count": 101,
     "metadata": {},
     "output_type": "execute_result"
    }
   ],
   "source": [
    "'''เทสลับ2'''"
   ]
  },
  {
   "cell_type": "code",
   "execution_count": null,
   "metadata": {},
   "outputs": [],
   "source": []
  }
 ],
 "metadata": {
  "BondSan": "4d06afca94c6c68ac2a1ec2a36f252d513ac3a615daf00e4c1ced51d4e201f9f1f3e3b403d34606761d52016c1bdc18f365823365d36339434193311f35a5c93fd8a2981b656f3838855128834635639c878cf151d8ea08eef65c84ad2a56f8ca3c22e3a3574df3d1af66384d2e78f33972064de38aa18af7f12dfb53958fb2b1a1e9b49b3fa348e82ce1e2bdf0f88ad206733483b53c553d95f4c99887a870c754b9927e6d793c09d82a9c38b23ae3ce7d28a2c35c2f4b14c42faea744e705550aa0436be528a4533bcb099a831609543a8b27e6a831f7560b8e17152f5a8f0240a7559e2b69a0abb2cd174380d391bc5cedace06e61ff99e5c57c792036c67",
  "kernelspec": {
   "display_name": "Python 3 (ipykernel)",
   "language": "python",
   "name": "python3"
  },
  "language_info": {
   "codemirror_mode": {
    "name": "ipython",
    "version": 3
   },
   "file_extension": ".py",
   "mimetype": "text/x-python",
   "name": "python",
   "nbconvert_exporter": "python",
   "pygments_lexer": "ipython3",
   "version": "3.12.4"
  }
 },
 "nbformat": 4,
 "nbformat_minor": 4
}
