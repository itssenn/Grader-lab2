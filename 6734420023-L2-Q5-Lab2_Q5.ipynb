{
 "cells": [
  {
   "cell_type": "markdown",
   "metadata": {
    "deletable": false,
    "editable": false,
    "nbgrader": {
     "cell_type": "markdown",
     "checksum": "4f795915d1844e91a84e329a8562f57f",
     "grade": false,
     "grade_id": "cell-dbf37dcea5d7dc5c",
     "locked": true,
     "schema_version": 3,
     "solution": false,
     "task": false
    }
   },
   "source": [
    "## Q5\n",
    "จงเขียนโปรแกรมที่รับตัวเลือก ( circle, square, rectangle ) จากผู้ใช้ แล้วรับความยาวรัศมีของ\n",
    "วงกลม หรือ ความยาวด้านของสี่เหลี่ยมจัตุรัส หรือ สี่เหลี่ยมผืนผ้า แล้วคำนวณหาพื้นที่และแสดงผลลัพธ์ดัง\n",
    "ตัวอย่างข้างล่างนี้ (กำหนดให้ใช้ค่า pi จาก module math)"
   ]
  },
  {
   "cell_type": "markdown",
   "metadata": {
    "deletable": false,
    "editable": false,
    "nbgrader": {
     "cell_type": "markdown",
     "checksum": "d1867af043b9f0ebc10c65db7d71fe2c",
     "grade": false,
     "grade_id": "cell-7ae57c7b0fc2869d",
     "locked": true,
     "schema_version": 3,
     "solution": false,
     "task": false
    }
   },
   "source": [
    "### ตัวอย่างการทำงาน: \n",
    "\n",
    "Choose circle, square or rectangle : **circle** <br>\n",
    "Length of the radius of the circle : **3.6** <br>\n",
    "Area is 40.71504079052372"
   ]
  },
  {
   "cell_type": "markdown",
   "metadata": {
    "deletable": false,
    "editable": false,
    "nbgrader": {
     "cell_type": "markdown",
     "checksum": "a18bb1d6833a0f5d449e0106d4e4b56e",
     "grade": false,
     "grade_id": "cell-1b10c564484fa711",
     "locked": true,
     "schema_version": 3,
     "solution": false,
     "task": false
    }
   },
   "source": [
    "### ตัวอย่างการทำงาน: \n",
    "\n",
    "Choose circle, square or rectangle : **square** <br>\n",
    "Length of the side of the square : **3.6** <br>\n",
    "Area is 12.96"
   ]
  },
  {
   "cell_type": "markdown",
   "metadata": {
    "deletable": false,
    "editable": false,
    "nbgrader": {
     "cell_type": "markdown",
     "checksum": "df3e2905d95760153e57e1ed0e1bb819",
     "grade": false,
     "grade_id": "cell-fc86ada0a7d9d7ee",
     "locked": true,
     "schema_version": 3,
     "solution": false,
     "task": false
    }
   },
   "source": [
    "### ตัวอย่างการทำงาน: \n",
    "\n",
    "Choose circle, square or rectangle : **rectangle** <br>\n",
    "Length of two sides of the rectangle : **2.5,3.6** <br>\n",
    "Area is 9.0"
   ]
  },
  {
   "cell_type": "markdown",
   "metadata": {
    "deletable": false,
    "editable": false,
    "nbgrader": {
     "cell_type": "markdown",
     "checksum": "e57ab9860c594efa87aa26d19547af02",
     "grade": false,
     "grade_id": "cell-7756331ade47aa76",
     "locked": true,
     "schema_version": 3,
     "solution": false,
     "task": false
    }
   },
   "source": [
    "### ตัวอย่างการทำงาน: \n",
    "\n",
    "Choose circle, square or rectangle : **xx** <br>\n",
    "Invalid choice."
   ]
  },
  {
   "cell_type": "code",
   "execution_count": 32,
   "metadata": {
    "deletable": false,
    "nbgrader": {
     "cell_type": "code",
     "checksum": "b200d6e6b1dcb53db9c7782614ea5d49",
     "grade": false,
     "grade_id": "name",
     "locked": false,
     "schema_version": 3,
     "solution": true
    }
   },
   "outputs": [],
   "source": [
    "import math\n",
    "def run():\n",
    "    geo = str(input(\"Choose circle, square or rectangle :\"))\n",
    "    if geo == \"circle\" or geo == \"square\" or geo == \"rectangle\" :\n",
    "        if geo == \"circle\" :\n",
    "            r = float(input(\"Length of the radius of the circle :\"))\n",
    "            print(f\"Area is {math.pi*(r**2)}\")\n",
    "        if geo == \"square\" :\n",
    "            len = float(input(\"Length of the side of the square :\"))\n",
    "            print(f\"Area is {len**2}\")\n",
    "        if geo == \"rectangle\" :\n",
    "            wid, hei = input(\"Length of two sides of the rectangle :\").split(\",\")\n",
    "            wid = float(wid)\n",
    "            hei = float(hei)\n",
    "            print(f\"Area is {wid*hei}\")\n",
    "    else :\n",
    "        print(\"Invalid choice.\")"
   ]
  },
  {
   "cell_type": "code",
   "execution_count": 14,
   "metadata": {
    "deletable": false,
    "editable": false,
    "nbgrader": {
     "cell_type": "code",
     "checksum": "b7b03893ed0aaf1a2af60ae612b4be37",
     "grade": false,
     "grade_id": "cell-befa13e6c82bd29b",
     "locked": true,
     "schema_version": 3,
     "solution": false,
     "task": false
    }
   },
   "outputs": [
    {
     "name": "stdin",
     "output_type": "stream",
     "text": [
      "Choose circle, square or rectangle : rectangle\n",
      "Length of two sides of the rectangle : 2.5 3.6\n"
     ]
    },
    {
     "name": "stdout",
     "output_type": "stream",
     "text": [
      "Area is 9.0\n"
     ]
    }
   ],
   "source": [
    "'''ตรวจสอบผลลัพธ์ของโปรแกรมด้วยการรันที่ cell นี้'''\n",
    "run()"
   ]
  },
  {
   "cell_type": "code",
   "execution_count": 34,
   "metadata": {
    "deletable": false,
    "editable": false,
    "nbgrader": {
     "cell_type": "code",
     "checksum": "f1301e553a15120f391cf34fbd8463af",
     "grade": false,
     "grade_id": "partial",
     "locked": true,
     "schema_version": 3,
     "solution": false,
     "task": false
    }
   },
   "outputs": [],
   "source": [
    "'''ตรวจสอบผลการคำนวณ'''\n",
    "from unittest.mock import patch\n",
    "from io import StringIO\n",
    "   \n",
    "def test(inputs,expected_output): \n",
    "    with patch('builtins.input', side_effect=inputs), patch('sys.stdout', new_callable=StringIO) as mock_stdout:\n",
    "        run()\n",
    "        assert expected_output==mock_stdout.getvalue(),mock_stdout.getvalue()\n",
    "def test_easy_print(inputs,expected_output):\n",
    "    with patch('builtins.input', side_effect=inputs), patch('sys.stdout', new_callable=StringIO) as mock_stdout:\n",
    "        run()\n",
    "        assert expected_output in mock_stdout.getvalue(), mock_stdout.getvalue()"
   ]
  },
  {
   "cell_type": "code",
   "execution_count": 36,
   "metadata": {
    "deletable": false,
    "editable": false,
    "nbgrader": {
     "cell_type": "code",
     "checksum": "2973451c43f994f42f765d3000ce9cb1",
     "grade": true,
     "grade_id": "easy_print",
     "locked": true,
     "points": 1,
     "schema_version": 3,
     "solution": false,
     "task": false
    }
   },
   "outputs": [
    {
     "name": "stdout",
     "output_type": "stream",
     "text": [
      "ok\n"
     ]
    }
   ],
   "source": [
    "'''ตรวจสอบการแสดงผลลัพธ์อย่างง่าย'''\n",
    "test_easy_print(inputs=['circle','3.6'],expected_output='Area')\n",
    "print('ok')"
   ]
  },
  {
   "cell_type": "code",
   "execution_count": 38,
   "metadata": {
    "deletable": false,
    "editable": false,
    "nbgrader": {
     "cell_type": "code",
     "checksum": "b94e07ce85f94d0c5d42d7d57e711a36",
     "grade": true,
     "grade_id": "exact",
     "locked": false,
     "points": 1,
     "schema_version": 3,
     "solution": false
    }
   },
   "outputs": [
    {
     "name": "stdout",
     "output_type": "stream",
     "text": [
      "ok\n"
     ]
    }
   ],
   "source": [
    "'''ตรวจสอบผลการคำนวณและการแสดงผลลัพธ์ให้เหมือนกับโจทย์ที่กำหนดให้'''\n",
    "test(['circle','3.6'],'Area is 40.71504079052372\\n')   #radius is float value\n",
    "test(['circle','3.578'],'Area is 40.21893304503943\\n') #radius is float value\n",
    "test(['circle','5'],'Area is 78.53981633974483\\n')     #radius is int value\n",
    "test(['circle','9'],'Area is 254.46900494077323\\n')    #radius is int value\n",
    "print('ok')"
   ]
  },
  {
   "cell_type": "code",
   "execution_count": 40,
   "metadata": {
    "deletable": false,
    "editable": false,
    "nbgrader": {
     "cell_type": "code",
     "checksum": "a45db52fb3ebef4fae51a67319756a56",
     "grade": true,
     "grade_id": "cell-40d500747966a4b4",
     "locked": true,
     "points": 1,
     "schema_version": 3,
     "solution": false,
     "task": false
    }
   },
   "outputs": [
    {
     "name": "stdout",
     "output_type": "stream",
     "text": [
      "ok\n"
     ]
    }
   ],
   "source": [
    "'''ตรวจสอบผลการคำนวณและการแสดงผลลัพธ์ให้เหมือนกับโจทย์ที่กำหนดให้'''\n",
    "test(['square','3.6'],'Area is 12.96\\n') \n",
    "test(['square','3.578'],'Area is 12.802083999999999\\n')  \n",
    "test(['square','5'],'Area is 25.0\\n')  \n",
    "test(['square','9'],'Area is 81.0\\n')  \n",
    "print('ok')"
   ]
  },
  {
   "cell_type": "code",
   "execution_count": 42,
   "metadata": {
    "deletable": false,
    "editable": false,
    "nbgrader": {
     "cell_type": "code",
     "checksum": "da4483cfc4cae760b764b8d871b5de30",
     "grade": true,
     "grade_id": "cell-8ed24f7a3c6c9b8b",
     "locked": true,
     "points": 1,
     "schema_version": 3,
     "solution": false,
     "task": false
    }
   },
   "outputs": [
    {
     "name": "stdout",
     "output_type": "stream",
     "text": [
      "ok\n"
     ]
    }
   ],
   "source": [
    "'''ตรวจสอบผลการคำนวณและการแสดงผลลัพธ์ให้เหมือนกับโจทย์ที่กำหนดให้'''\n",
    "test(['rectangle','2.5,3.6'],'Area is 9.0\\n')   #float,float\n",
    "test(['rectangle','3,4'],'Area is 12.0\\n')      #int,int\n",
    "test(['rectangle','2.5,4'],'Area is 10.0\\n')    #float,int\n",
    "test(['rectangle','5,3.6'],'Area is 18.0\\n')    #int,float\n",
    "print('ok')"
   ]
  },
  {
   "cell_type": "code",
   "execution_count": 44,
   "metadata": {
    "deletable": false,
    "editable": false,
    "nbgrader": {
     "cell_type": "code",
     "checksum": "f11dc663a0f40d7e6639c07f59abf02e",
     "grade": true,
     "grade_id": "cell-5ea63f69411d8cea",
     "locked": true,
     "points": 1,
     "schema_version": 3,
     "solution": false,
     "task": false
    }
   },
   "outputs": [
    {
     "name": "stdout",
     "output_type": "stream",
     "text": [
      "ok\n"
     ]
    }
   ],
   "source": [
    "'''ตรวจสอบผลการคำนวณและการแสดงผลลัพธ์ให้เหมือนกับโจทย์ที่กำหนดให้'''\n",
    "test(['xx'],'Invalid choice.\\n')\n",
    "test(['test'],'Invalid choice.\\n')\n",
    "test(['cir'],'Invalid choice.\\n')\n",
    "print('ok')"
   ]
  },
  {
   "cell_type": "code",
   "execution_count": 46,
   "metadata": {
    "deletable": false,
    "editable": false,
    "nbgrader": {
     "cell_type": "code",
     "checksum": "ae64eff14ac512048a1517ba25bd4ad0",
     "grade": true,
     "grade_id": "cell-25416790032ad789",
     "locked": true,
     "points": 1,
     "schema_version": 3,
     "solution": false,
     "task": false
    }
   },
   "outputs": [
    {
     "data": {
      "text/plain": [
       "'เทสลับ1'"
      ]
     },
     "execution_count": 46,
     "metadata": {},
     "output_type": "execute_result"
    }
   ],
   "source": [
    "'''เทสลับ1'''"
   ]
  },
  {
   "cell_type": "code",
   "execution_count": 48,
   "metadata": {
    "deletable": false,
    "editable": false,
    "nbgrader": {
     "cell_type": "code",
     "checksum": "3a3cfb2e4a4e2d6a219b84b2d790141b",
     "grade": true,
     "grade_id": "cell-c7d863a4f1196c73",
     "locked": true,
     "points": 1,
     "schema_version": 3,
     "solution": false,
     "task": false
    }
   },
   "outputs": [
    {
     "data": {
      "text/plain": [
       "'เทสลับ2'"
      ]
     },
     "execution_count": 48,
     "metadata": {},
     "output_type": "execute_result"
    }
   ],
   "source": [
    "'''เทสลับ2'''"
   ]
  },
  {
   "cell_type": "code",
   "execution_count": 50,
   "metadata": {
    "deletable": false,
    "editable": false,
    "nbgrader": {
     "cell_type": "code",
     "checksum": "a6df3171653fb88e2a997b8a1464a1e3",
     "grade": true,
     "grade_id": "cell-41888b2f78cf1b0c",
     "locked": true,
     "points": 1,
     "schema_version": 3,
     "solution": false,
     "task": false
    }
   },
   "outputs": [
    {
     "data": {
      "text/plain": [
       "'เทสลับ3'"
      ]
     },
     "execution_count": 50,
     "metadata": {},
     "output_type": "execute_result"
    }
   ],
   "source": [
    "'''เทสลับ3'''"
   ]
  },
  {
   "cell_type": "code",
   "execution_count": 52,
   "metadata": {
    "deletable": false,
    "editable": false,
    "nbgrader": {
     "cell_type": "code",
     "checksum": "79a2b9bfacf77fbf6bc443255d2deb9f",
     "grade": true,
     "grade_id": "cell-215c3405255e1df3",
     "locked": true,
     "points": 1,
     "schema_version": 3,
     "solution": false,
     "task": false
    }
   },
   "outputs": [
    {
     "data": {
      "text/plain": [
       "'เทสลับ4'"
      ]
     },
     "execution_count": 52,
     "metadata": {},
     "output_type": "execute_result"
    }
   ],
   "source": [
    "'''เทสลับ4'''"
   ]
  },
  {
   "cell_type": "code",
   "execution_count": null,
   "metadata": {},
   "outputs": [],
   "source": [
    "ss"
   ]
  }
 ],
 "metadata": {
  "BondSan": "80b35779e3acc3662349aec9a56c1e179806881b4f6dad68af7d409424eaf511ef5c49e97418003d0cce73109665b80f43e13720c32d2196e2745ae839ad7a673e903d87467f68870868cd97c4598be9852e1b5e21192cefffbd18401925619c42124850495175f98b16d9b17fbf557caf01e7c71e95c42383efd6f9a433939d741f0e36c9486ff490875206b332e8756cae52bec1a2667cc283dac8f35ca537a7ea9269ea7ab668388e303cd0400819178aee73b8bd1059cfe5bfa5c5bd20cde23b1ebd1caed8834dc2caccecf55c3ae7dfc87f772a07f54964476273693c2261fb33fd3d77a87ea96ed39a81464b1e47cb8cef00a7f44c79bf479fdbcc800d",
  "kernelspec": {
   "display_name": "Python 3 (ipykernel)",
   "language": "python",
   "name": "python3"
  },
  "language_info": {
   "codemirror_mode": {
    "name": "ipython",
    "version": 3
   },
   "file_extension": ".py",
   "mimetype": "text/x-python",
   "name": "python",
   "nbconvert_exporter": "python",
   "pygments_lexer": "ipython3",
   "version": "3.12.4"
  }
 },
 "nbformat": 4,
 "nbformat_minor": 4
}
